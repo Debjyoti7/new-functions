{
 "cells": [
  {
   "cell_type": "code",
   "execution_count": 1,
   "id": "fbc9844f-0329-44ce-9dc8-0b90d431e017",
   "metadata": {},
   "outputs": [],
   "source": [
    "def test(a,b):\n",
    "    return a**b"
   ]
  },
  {
   "cell_type": "code",
   "execution_count": 2,
   "id": "78d80dd7-1a97-46f3-8c5f-f529ebc95b11",
   "metadata": {},
   "outputs": [
    {
     "data": {
      "text/plain": [
       "81"
      ]
     },
     "execution_count": 2,
     "metadata": {},
     "output_type": "execute_result"
    }
   ],
   "source": [
    "test (9,2)"
   ]
  },
  {
   "cell_type": "code",
   "execution_count": 4,
   "id": "5771abe9-617e-4af8-bae9-d6ab6545954f",
   "metadata": {},
   "outputs": [],
   "source": [
    "d = lambda a,b : a**b"
   ]
  },
  {
   "cell_type": "code",
   "execution_count": 5,
   "id": "c1ed0943-ef86-464c-91c7-b3f82a7218a9",
   "metadata": {},
   "outputs": [
    {
     "data": {
      "text/plain": [
       "64"
      ]
     },
     "execution_count": 5,
     "metadata": {},
     "output_type": "execute_result"
    }
   ],
   "source": [
    "d (4,3)"
   ]
  },
  {
   "cell_type": "code",
   "execution_count": 6,
   "id": "9ab11921-305d-4258-9a65-b7d4e3b24444",
   "metadata": {},
   "outputs": [],
   "source": [
    "c_to_f = lambda c : (9/5)*c+32"
   ]
  },
  {
   "cell_type": "code",
   "execution_count": 7,
   "id": "aa325b8e-cac0-4248-a508-b7bac2bd47c2",
   "metadata": {},
   "outputs": [
    {
     "data": {
      "text/plain": [
       "-40.0"
      ]
     },
     "execution_count": 7,
     "metadata": {},
     "output_type": "execute_result"
    }
   ],
   "source": [
    "c_to_f(-40)"
   ]
  },
  {
   "cell_type": "code",
   "execution_count": 8,
   "id": "6383b04a-dff2-4f29-996f-f15dcb147382",
   "metadata": {},
   "outputs": [],
   "source": [
    "max_two = lambda x,y : x if x>y else y"
   ]
  },
  {
   "cell_type": "code",
   "execution_count": 9,
   "id": "a7aa50f5-0ac5-4dc5-a1a8-48a08419bcdb",
   "metadata": {},
   "outputs": [
    {
     "data": {
      "text/plain": [
       "55"
      ]
     },
     "execution_count": 9,
     "metadata": {},
     "output_type": "execute_result"
    }
   ],
   "source": [
    "max_two (4,55)"
   ]
  },
  {
   "cell_type": "code",
   "execution_count": 10,
   "id": "ed570a62-9299-4d1b-923f-ca0df3e46080",
   "metadata": {},
   "outputs": [],
   "source": [
    "s = \"pwskills\""
   ]
  },
  {
   "cell_type": "code",
   "execution_count": 11,
   "id": "5b4e3a16-bc8a-4cd4-a6aa-771b3cd13fe8",
   "metadata": {},
   "outputs": [],
   "source": [
    "len_str = lambda s : len(s)"
   ]
  },
  {
   "cell_type": "code",
   "execution_count": 12,
   "id": "d73a1307-3877-433a-983e-8870fbae8aa5",
   "metadata": {},
   "outputs": [
    {
     "data": {
      "text/plain": [
       "8"
      ]
     },
     "execution_count": 12,
     "metadata": {},
     "output_type": "execute_result"
    }
   ],
   "source": [
    "len_str(s)"
   ]
  },
  {
   "cell_type": "markdown",
   "id": "c1a3051b-d96c-4870-8515-972da0ca0f34",
   "metadata": {},
   "source": [
    "# map"
   ]
  },
  {
   "cell_type": "code",
   "execution_count": 13,
   "id": "fec9a20b-2a0f-41f3-85cb-3d901a06503f",
   "metadata": {},
   "outputs": [],
   "source": [
    "l = [1,2,3,4,5]"
   ]
  },
  {
   "cell_type": "code",
   "execution_count": 15,
   "id": "e9b7f604-20b7-43f8-a0d9-b14f3415be8a",
   "metadata": {},
   "outputs": [],
   "source": [
    "def test(l):\n",
    "    l1 = []\n",
    "    for i in l:\n",
    "        l1.append(i**2)\n",
    "    return l1"
   ]
  },
  {
   "cell_type": "code",
   "execution_count": 16,
   "id": "549cacb1-13df-429b-a00e-b3942012631b",
   "metadata": {},
   "outputs": [
    {
     "data": {
      "text/plain": [
       "[1, 4, 9, 16, 25]"
      ]
     },
     "execution_count": 16,
     "metadata": {},
     "output_type": "execute_result"
    }
   ],
   "source": [
    "test(l)"
   ]
  },
  {
   "cell_type": "code",
   "execution_count": 17,
   "id": "f8d2c638-6699-4c4a-a16a-526491f1a9ca",
   "metadata": {},
   "outputs": [],
   "source": [
    "def sq(x):\n",
    "    return x**2\n"
   ]
  },
  {
   "cell_type": "code",
   "execution_count": 19,
   "id": "8b422262-cae5-48c0-984b-163834aa37c5",
   "metadata": {},
   "outputs": [
    {
     "data": {
      "text/plain": [
       "[1, 4, 9, 16, 25]"
      ]
     },
     "execution_count": 19,
     "metadata": {},
     "output_type": "execute_result"
    }
   ],
   "source": [
    "list(map(sq , l))"
   ]
  },
  {
   "cell_type": "code",
   "execution_count": 20,
   "id": "f636290d-f840-4def-ba29-38196623fc34",
   "metadata": {},
   "outputs": [
    {
     "data": {
      "text/plain": [
       "{1, 4, 9, 16, 25}"
      ]
     },
     "execution_count": 20,
     "metadata": {},
     "output_type": "execute_result"
    }
   ],
   "source": [
    "set(map(sq , l))"
   ]
  },
  {
   "cell_type": "code",
   "execution_count": 22,
   "id": "1287d347-310e-42c7-9985-4692ced0c502",
   "metadata": {},
   "outputs": [
    {
     "data": {
      "text/plain": [
       "[11, 12, 13, 14, 15]"
      ]
     },
     "execution_count": 22,
     "metadata": {},
     "output_type": "execute_result"
    }
   ],
   "source": [
    "list(map(lambda x : x+10, l))"
   ]
  },
  {
   "cell_type": "code",
   "execution_count": 24,
   "id": "86b7b06e-5722-4080-a20d-c7bf3ede4513",
   "metadata": {},
   "outputs": [
    {
     "data": {
      "text/plain": [
       "['1', '2', '3', '4', '5']"
      ]
     },
     "execution_count": 24,
     "metadata": {},
     "output_type": "execute_result"
    }
   ],
   "source": [
    "list(map(lambda x : str(x) , l))"
   ]
  },
  {
   "cell_type": "code",
   "execution_count": 33,
   "id": "681d1762-7c7d-4758-84a4-26961b578d20",
   "metadata": {},
   "outputs": [],
   "source": [
    "l1 =[1,2,3,4,5,6]\n",
    "l2 = [7,8,9,11,12]"
   ]
  },
  {
   "cell_type": "code",
   "execution_count": 34,
   "id": "e64569d6-dabe-445f-93b9-d136bb52b580",
   "metadata": {},
   "outputs": [
    {
     "data": {
      "text/plain": [
       "[8, 10, 12, 15, 17]"
      ]
     },
     "execution_count": 34,
     "metadata": {},
     "output_type": "execute_result"
    }
   ],
   "source": [
    "list(map(lambda x,y :x+y , l1,l2))"
   ]
  },
  {
   "cell_type": "code",
   "execution_count": 36,
   "id": "41982e85-36ce-43d2-9aa7-1d5c5a078317",
   "metadata": {},
   "outputs": [
    {
     "data": {
      "text/plain": [
       "[8, 10, 12, 15, 17]"
      ]
     },
     "execution_count": 36,
     "metadata": {},
     "output_type": "execute_result"
    }
   ],
   "source": [
    "list(map(lambda a,b : a+b , l1,l2))"
   ]
  },
  {
   "cell_type": "code",
   "execution_count": 37,
   "id": "16a36064-6644-47c4-8ea8-6550a914b12d",
   "metadata": {},
   "outputs": [
    {
     "data": {
      "text/plain": [
       "['P', 'W', 'S', 'K', 'I', 'L', 'L', 'S']"
      ]
     },
     "execution_count": 37,
     "metadata": {},
     "output_type": "execute_result"
    }
   ],
   "source": [
    "list(map(lambda x : x.upper() , s))"
   ]
  },
  {
   "cell_type": "code",
   "execution_count": 39,
   "id": "f448ae1a-9b6c-4bb3-8224-69ee63424f80",
   "metadata": {},
   "outputs": [],
   "source": [
    "from functools import reduce"
   ]
  },
  {
   "cell_type": "code",
   "execution_count": 41,
   "id": "c82c4c03-f8c8-4aba-bde3-b90f8e272c6a",
   "metadata": {},
   "outputs": [
    {
     "data": {
      "text/plain": [
       "15"
      ]
     },
     "execution_count": 41,
     "metadata": {},
     "output_type": "execute_result"
    }
   ],
   "source": [
    "reduce(lambda x,y : x+y ,l)"
   ]
  },
  {
   "cell_type": "code",
   "execution_count": 42,
   "id": "cc8f262d-4f0e-43d3-913e-47c2a120b8d5",
   "metadata": {},
   "outputs": [],
   "source": [
    "l1 = [-1,-2,-3,-4,0,424,2,3,4,5,7]\n"
   ]
  },
  {
   "cell_type": "code",
   "execution_count": 45,
   "id": "568abed1-e465-4b15-b409-486d65a0b037",
   "metadata": {},
   "outputs": [
    {
     "data": {
      "text/plain": [
       "[-1, -2, -3, -4, 0]"
      ]
     },
     "execution_count": 45,
     "metadata": {},
     "output_type": "execute_result"
    }
   ],
   "source": [
    "list(filter(lambda x : x<=0 , l1))"
   ]
  },
  {
   "cell_type": "code",
   "execution_count": null,
   "id": "82ef5766-b935-44ab-9120-1f41024a6c7c",
   "metadata": {},
   "outputs": [],
   "source": []
  }
 ],
 "metadata": {
  "kernelspec": {
   "display_name": "Python 3 (ipykernel)",
   "language": "python",
   "name": "python3"
  },
  "language_info": {
   "codemirror_mode": {
    "name": "ipython",
    "version": 3
   },
   "file_extension": ".py",
   "mimetype": "text/x-python",
   "name": "python",
   "nbconvert_exporter": "python",
   "pygments_lexer": "ipython3",
   "version": "3.10.8"
  }
 },
 "nbformat": 4,
 "nbformat_minor": 5
}
